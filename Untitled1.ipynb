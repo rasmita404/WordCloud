{
 "cells": [
  {
   "cell_type": "code",
   "execution_count": 1,
   "metadata": {},
   "outputs": [
    {
     "name": "stdout",
     "output_type": "stream",
     "text": [
      "Requirement already satisfied: wordcloud in c:\\users\\sahur\\venv\\ wordcloud\\lib\\site-packages (1.8.0)\n",
      "Requirement already satisfied: numpy>=1.6.1 in c:\\users\\sahur\\venv\\ wordcloud\\lib\\site-packages (from wordcloud) (1.19.2)\n",
      "Requirement already satisfied: pillow in c:\\users\\sahur\\venv\\ wordcloud\\lib\\site-packages (from wordcloud) (8.0.1)\n",
      "Requirement already satisfied: matplotlib in c:\\users\\sahur\\venv\\ wordcloud\\lib\\site-packages (from wordcloud) (3.3.2)\n",
      "Requirement already satisfied: pyparsing!=2.0.4,!=2.1.2,!=2.1.6,>=2.0.3 in c:\\users\\sahur\\venv\\ wordcloud\\lib\\site-packages (from matplotlib->wordcloud) (2.4.7)\n",
      "Requirement already satisfied: certifi>=2020.06.20 in c:\\users\\sahur\\venv\\ wordcloud\\lib\\site-packages (from matplotlib->wordcloud) (2020.6.20)\n",
      "Requirement already satisfied: kiwisolver>=1.0.1 in c:\\users\\sahur\\venv\\ wordcloud\\lib\\site-packages (from matplotlib->wordcloud) (1.2.0)\n",
      "Requirement already satisfied: cycler>=0.10 in c:\\users\\sahur\\venv\\ wordcloud\\lib\\site-packages (from matplotlib->wordcloud) (0.10.0)\n",
      "Requirement already satisfied: python-dateutil>=2.1 in c:\\users\\sahur\\venv\\ wordcloud\\lib\\site-packages (from matplotlib->wordcloud) (2.8.1)\n",
      "Requirement already satisfied: six in c:\\users\\sahur\\venv\\ wordcloud\\lib\\site-packages (from cycler>=0.10->matplotlib->wordcloud) (1.15.0)\n",
      "Requirement already satisfied: fileupload in c:\\users\\sahur\\venv\\ wordcloud\\lib\\site-packages (0.1.5)\n",
      "Requirement already satisfied: ipywidgets>=5.1 in c:\\users\\sahur\\venv\\ wordcloud\\lib\\site-packages (from fileupload) (7.5.1)\n",
      "Requirement already satisfied: traitlets>=4.2 in c:\\users\\sahur\\venv\\ wordcloud\\lib\\site-packages (from fileupload) (5.0.5)\n",
      "Requirement already satisfied: notebook>=4.2 in c:\\users\\sahur\\venv\\ wordcloud\\lib\\site-packages (from fileupload) (6.1.4)\n",
      "Requirement already satisfied: widgetsnbextension~=3.5.0 in c:\\users\\sahur\\venv\\ wordcloud\\lib\\site-packages (from ipywidgets>=5.1->fileupload) (3.5.1)\n",
      "Requirement already satisfied: ipykernel>=4.5.1 in c:\\users\\sahur\\venv\\ wordcloud\\lib\\site-packages (from ipywidgets>=5.1->fileupload) (5.3.4)\n",
      "Requirement already satisfied: ipython>=4.0.0; python_version >= \"3.3\" in c:\\users\\sahur\\venv\\ wordcloud\\lib\\site-packages (from ipywidgets>=5.1->fileupload) (7.18.1)\n",
      "Requirement already satisfied: nbformat>=4.2.0 in c:\\users\\sahur\\venv\\ wordcloud\\lib\\site-packages (from ipywidgets>=5.1->fileupload) (5.0.8)\n",
      "Requirement already satisfied: ipython-genutils in c:\\users\\sahur\\venv\\ wordcloud\\lib\\site-packages (from traitlets>=4.2->fileupload) (0.2.0)\n",
      "Requirement already satisfied: Send2Trash in c:\\users\\sahur\\venv\\ wordcloud\\lib\\site-packages (from notebook>=4.2->fileupload) (1.5.0)\n",
      "Requirement already satisfied: pyzmq>=17 in c:\\users\\sahur\\venv\\ wordcloud\\lib\\site-packages (from notebook>=4.2->fileupload) (19.0.2)\n",
      "Requirement already satisfied: prometheus-client in c:\\users\\sahur\\venv\\ wordcloud\\lib\\site-packages (from notebook>=4.2->fileupload) (0.8.0)\n",
      "Requirement already satisfied: nbconvert in c:\\users\\sahur\\venv\\ wordcloud\\lib\\site-packages (from notebook>=4.2->fileupload) (6.0.7)\n",
      "Requirement already satisfied: tornado>=5.0 in c:\\users\\sahur\\venv\\ wordcloud\\lib\\site-packages (from notebook>=4.2->fileupload) (6.0.4)\n",
      "Requirement already satisfied: jupyter-client>=5.3.4 in c:\\users\\sahur\\venv\\ wordcloud\\lib\\site-packages (from notebook>=4.2->fileupload) (6.1.7)\n",
      "Requirement already satisfied: jinja2 in c:\\users\\sahur\\venv\\ wordcloud\\lib\\site-packages (from notebook>=4.2->fileupload) (2.11.2)\n",
      "Requirement already satisfied: argon2-cffi in c:\\users\\sahur\\venv\\ wordcloud\\lib\\site-packages (from notebook>=4.2->fileupload) (20.1.0)\n",
      "Requirement already satisfied: terminado>=0.8.3 in c:\\users\\sahur\\venv\\ wordcloud\\lib\\site-packages (from notebook>=4.2->fileupload) (0.9.1)\n",
      "Requirement already satisfied: jupyter-core>=4.6.1 in c:\\users\\sahur\\venv\\ wordcloud\\lib\\site-packages (from notebook>=4.2->fileupload) (4.6.3)\n",
      "Requirement already satisfied: backcall in c:\\users\\sahur\\venv\\ wordcloud\\lib\\site-packages (from ipython>=4.0.0; python_version >= \"3.3\"->ipywidgets>=5.1->fileupload) (0.2.0)\n",
      "Requirement already satisfied: colorama; sys_platform == \"win32\" in c:\\users\\sahur\\venv\\ wordcloud\\lib\\site-packages (from ipython>=4.0.0; python_version >= \"3.3\"->ipywidgets>=5.1->fileupload) (0.4.4)\n",
      "Requirement already satisfied: pygments in c:\\users\\sahur\\venv\\ wordcloud\\lib\\site-packages (from ipython>=4.0.0; python_version >= \"3.3\"->ipywidgets>=5.1->fileupload) (2.7.2)\n",
      "Requirement already satisfied: decorator in c:\\users\\sahur\\venv\\ wordcloud\\lib\\site-packages (from ipython>=4.0.0; python_version >= \"3.3\"->ipywidgets>=5.1->fileupload) (4.4.2)\n",
      "Requirement already satisfied: setuptools>=18.5 in c:\\users\\sahur\\venv\\ wordcloud\\lib\\site-packages (from ipython>=4.0.0; python_version >= \"3.3\"->ipywidgets>=5.1->fileupload) (50.3.2)\n",
      "Requirement already satisfied: jedi>=0.10 in c:\\users\\sahur\\venv\\ wordcloud\\lib\\site-packages (from ipython>=4.0.0; python_version >= \"3.3\"->ipywidgets>=5.1->fileupload) (0.17.2)\n",
      "Requirement already satisfied: pickleshare in c:\\users\\sahur\\venv\\ wordcloud\\lib\\site-packages (from ipython>=4.0.0; python_version >= \"3.3\"->ipywidgets>=5.1->fileupload) (0.7.5)\n",
      "Requirement already satisfied: prompt-toolkit!=3.0.0,!=3.0.1,<3.1.0,>=2.0.0 in c:\\users\\sahur\\venv\\ wordcloud\\lib\\site-packages (from ipython>=4.0.0; python_version >= \"3.3\"->ipywidgets>=5.1->fileupload) (3.0.8)\n",
      "Requirement already satisfied: jsonschema!=2.5.0,>=2.4 in c:\\users\\sahur\\venv\\ wordcloud\\lib\\site-packages (from nbformat>=4.2.0->ipywidgets>=5.1->fileupload) (3.2.0)\n",
      "Requirement already satisfied: mistune<2,>=0.8.1 in c:\\users\\sahur\\venv\\ wordcloud\\lib\\site-packages (from nbconvert->notebook>=4.2->fileupload) (0.8.4)\n",
      "Requirement already satisfied: jupyterlab-pygments in c:\\users\\sahur\\venv\\ wordcloud\\lib\\site-packages (from nbconvert->notebook>=4.2->fileupload) (0.1.2)\n",
      "Requirement already satisfied: defusedxml in c:\\users\\sahur\\venv\\ wordcloud\\lib\\site-packages (from nbconvert->notebook>=4.2->fileupload) (0.6.0)\n",
      "Requirement already satisfied: pandocfilters>=1.4.1 in c:\\users\\sahur\\venv\\ wordcloud\\lib\\site-packages (from nbconvert->notebook>=4.2->fileupload) (1.4.3)\n",
      "Requirement already satisfied: bleach in c:\\users\\sahur\\venv\\ wordcloud\\lib\\site-packages (from nbconvert->notebook>=4.2->fileupload) (3.2.1)\n",
      "Requirement already satisfied: testpath in c:\\users\\sahur\\venv\\ wordcloud\\lib\\site-packages (from nbconvert->notebook>=4.2->fileupload) (0.4.4)\n",
      "Requirement already satisfied: nbclient<0.6.0,>=0.5.0 in c:\\users\\sahur\\venv\\ wordcloud\\lib\\site-packages (from nbconvert->notebook>=4.2->fileupload) (0.5.1)\n",
      "Requirement already satisfied: entrypoints>=0.2.2 in c:\\users\\sahur\\venv\\ wordcloud\\lib\\site-packages (from nbconvert->notebook>=4.2->fileupload) (0.3)\n",
      "Requirement already satisfied: python-dateutil>=2.1 in c:\\users\\sahur\\venv\\ wordcloud\\lib\\site-packages (from jupyter-client>=5.3.4->notebook>=4.2->fileupload) (2.8.1)\n",
      "Requirement already satisfied: MarkupSafe>=0.23 in c:\\users\\sahur\\venv\\ wordcloud\\lib\\site-packages (from jinja2->notebook>=4.2->fileupload) (1.1.1)\n",
      "Requirement already satisfied: cffi>=1.0.0 in c:\\users\\sahur\\venv\\ wordcloud\\lib\\site-packages (from argon2-cffi->notebook>=4.2->fileupload) (1.14.3)\n",
      "Requirement already satisfied: six in c:\\users\\sahur\\venv\\ wordcloud\\lib\\site-packages (from argon2-cffi->notebook>=4.2->fileupload) (1.15.0)\n",
      "Requirement already satisfied: pywinpty>=0.5; os_name == \"nt\" in c:\\users\\sahur\\venv\\ wordcloud\\lib\\site-packages (from terminado>=0.8.3->notebook>=4.2->fileupload) (0.5.7)\n",
      "Requirement already satisfied: pywin32>=1.0; sys_platform == \"win32\" in c:\\users\\sahur\\venv\\ wordcloud\\lib\\site-packages (from jupyter-core>=4.6.1->notebook>=4.2->fileupload) (228)\n",
      "Requirement already satisfied: parso<0.8.0,>=0.7.0 in c:\\users\\sahur\\venv\\ wordcloud\\lib\\site-packages (from jedi>=0.10->ipython>=4.0.0; python_version >= \"3.3\"->ipywidgets>=5.1->fileupload) (0.7.1)\n",
      "Requirement already satisfied: wcwidth in c:\\users\\sahur\\venv\\ wordcloud\\lib\\site-packages (from prompt-toolkit!=3.0.0,!=3.0.1,<3.1.0,>=2.0.0->ipython>=4.0.0; python_version >= \"3.3\"->ipywidgets>=5.1->fileupload) (0.2.5)\n",
      "Requirement already satisfied: attrs>=17.4.0 in c:\\users\\sahur\\venv\\ wordcloud\\lib\\site-packages (from jsonschema!=2.5.0,>=2.4->nbformat>=4.2.0->ipywidgets>=5.1->fileupload) (20.2.0)\n",
      "Requirement already satisfied: pyrsistent>=0.14.0 in c:\\users\\sahur\\venv\\ wordcloud\\lib\\site-packages (from jsonschema!=2.5.0,>=2.4->nbformat>=4.2.0->ipywidgets>=5.1->fileupload) (0.17.3)\n",
      "Requirement already satisfied: packaging in c:\\users\\sahur\\venv\\ wordcloud\\lib\\site-packages (from bleach->nbconvert->notebook>=4.2->fileupload) (20.4)\n",
      "Requirement already satisfied: webencodings in c:\\users\\sahur\\venv\\ wordcloud\\lib\\site-packages (from bleach->nbconvert->notebook>=4.2->fileupload) (0.5.1)\n",
      "Requirement already satisfied: nest-asyncio in c:\\users\\sahur\\venv\\ wordcloud\\lib\\site-packages (from nbclient<0.6.0,>=0.5.0->nbconvert->notebook>=4.2->fileupload) (1.4.2)\n",
      "Requirement already satisfied: async-generator in c:\\users\\sahur\\venv\\ wordcloud\\lib\\site-packages (from nbclient<0.6.0,>=0.5.0->nbconvert->notebook>=4.2->fileupload) (1.10)\n",
      "Requirement already satisfied: pycparser in c:\\users\\sahur\\venv\\ wordcloud\\lib\\site-packages (from cffi>=1.0.0->argon2-cffi->notebook>=4.2->fileupload) (2.20)\n",
      "Requirement already satisfied: pyparsing>=2.0.2 in c:\\users\\sahur\\venv\\ wordcloud\\lib\\site-packages (from packaging->bleach->nbconvert->notebook>=4.2->fileupload) (2.4.7)\n"
     ]
    },
    {
     "name": "stdout",
     "output_type": "stream",
     "text": [
      "Requirement already satisfied: ipywidgets in c:\\users\\sahur\\venv\\ wordcloud\\lib\\site-packages (7.5.1)\n",
      "Requirement already satisfied: nbformat>=4.2.0 in c:\\users\\sahur\\venv\\ wordcloud\\lib\\site-packages (from ipywidgets) (5.0.8)\n",
      "Requirement already satisfied: ipykernel>=4.5.1 in c:\\users\\sahur\\venv\\ wordcloud\\lib\\site-packages (from ipywidgets) (5.3.4)\n",
      "Requirement already satisfied: traitlets>=4.3.1 in c:\\users\\sahur\\venv\\ wordcloud\\lib\\site-packages (from ipywidgets) (5.0.5)\n",
      "Requirement already satisfied: ipython>=4.0.0; python_version >= \"3.3\" in c:\\users\\sahur\\venv\\ wordcloud\\lib\\site-packages (from ipywidgets) (7.18.1)\n",
      "Requirement already satisfied: widgetsnbextension~=3.5.0 in c:\\users\\sahur\\venv\\ wordcloud\\lib\\site-packages (from ipywidgets) (3.5.1)\n",
      "Requirement already satisfied: jupyter-core in c:\\users\\sahur\\venv\\ wordcloud\\lib\\site-packages (from nbformat>=4.2.0->ipywidgets) (4.6.3)\n",
      "Requirement already satisfied: jsonschema!=2.5.0,>=2.4 in c:\\users\\sahur\\venv\\ wordcloud\\lib\\site-packages (from nbformat>=4.2.0->ipywidgets) (3.2.0)\n",
      "Requirement already satisfied: ipython-genutils in c:\\users\\sahur\\venv\\ wordcloud\\lib\\site-packages (from nbformat>=4.2.0->ipywidgets) (0.2.0)\n",
      "Requirement already satisfied: jupyter-client in c:\\users\\sahur\\venv\\ wordcloud\\lib\\site-packages (from ipykernel>=4.5.1->ipywidgets) (6.1.7)\n",
      "Requirement already satisfied: tornado>=4.2 in c:\\users\\sahur\\venv\\ wordcloud\\lib\\site-packages (from ipykernel>=4.5.1->ipywidgets) (6.0.4)\n",
      "Requirement already satisfied: colorama; sys_platform == \"win32\" in c:\\users\\sahur\\venv\\ wordcloud\\lib\\site-packages (from ipython>=4.0.0; python_version >= \"3.3\"->ipywidgets) (0.4.4)\n",
      "Requirement already satisfied: pickleshare in c:\\users\\sahur\\venv\\ wordcloud\\lib\\site-packages (from ipython>=4.0.0; python_version >= \"3.3\"->ipywidgets) (0.7.5)\n",
      "Requirement already satisfied: jedi>=0.10 in c:\\users\\sahur\\venv\\ wordcloud\\lib\\site-packages (from ipython>=4.0.0; python_version >= \"3.3\"->ipywidgets) (0.17.2)\n",
      "Requirement already satisfied: setuptools>=18.5 in c:\\users\\sahur\\venv\\ wordcloud\\lib\\site-packages (from ipython>=4.0.0; python_version >= \"3.3\"->ipywidgets) (50.3.2)\n",
      "Requirement already satisfied: prompt-toolkit!=3.0.0,!=3.0.1,<3.1.0,>=2.0.0 in c:\\users\\sahur\\venv\\ wordcloud\\lib\\site-packages (from ipython>=4.0.0; python_version >= \"3.3\"->ipywidgets) (3.0.8)\n",
      "Requirement already satisfied: backcall in c:\\users\\sahur\\venv\\ wordcloud\\lib\\site-packages (from ipython>=4.0.0; python_version >= \"3.3\"->ipywidgets) (0.2.0)\n",
      "Requirement already satisfied: decorator in c:\\users\\sahur\\venv\\ wordcloud\\lib\\site-packages (from ipython>=4.0.0; python_version >= \"3.3\"->ipywidgets) (4.4.2)\n",
      "Requirement already satisfied: pygments in c:\\users\\sahur\\venv\\ wordcloud\\lib\\site-packages (from ipython>=4.0.0; python_version >= \"3.3\"->ipywidgets) (2.7.2)\n",
      "Requirement already satisfied: notebook>=4.4.1 in c:\\users\\sahur\\venv\\ wordcloud\\lib\\site-packages (from widgetsnbextension~=3.5.0->ipywidgets) (6.1.4)\n",
      "Requirement already satisfied: pywin32>=1.0; sys_platform == \"win32\" in c:\\users\\sahur\\venv\\ wordcloud\\lib\\site-packages (from jupyter-core->nbformat>=4.2.0->ipywidgets) (228)\n",
      "Requirement already satisfied: pyrsistent>=0.14.0 in c:\\users\\sahur\\venv\\ wordcloud\\lib\\site-packages (from jsonschema!=2.5.0,>=2.4->nbformat>=4.2.0->ipywidgets) (0.17.3)\n",
      "Requirement already satisfied: six>=1.11.0 in c:\\users\\sahur\\venv\\ wordcloud\\lib\\site-packages (from jsonschema!=2.5.0,>=2.4->nbformat>=4.2.0->ipywidgets) (1.15.0)\n",
      "Requirement already satisfied: attrs>=17.4.0 in c:\\users\\sahur\\venv\\ wordcloud\\lib\\site-packages (from jsonschema!=2.5.0,>=2.4->nbformat>=4.2.0->ipywidgets) (20.2.0)\n",
      "Requirement already satisfied: python-dateutil>=2.1 in c:\\users\\sahur\\venv\\ wordcloud\\lib\\site-packages (from jupyter-client->ipykernel>=4.5.1->ipywidgets) (2.8.1)\n",
      "Requirement already satisfied: pyzmq>=13 in c:\\users\\sahur\\venv\\ wordcloud\\lib\\site-packages (from jupyter-client->ipykernel>=4.5.1->ipywidgets) (19.0.2)\n",
      "Requirement already satisfied: parso<0.8.0,>=0.7.0 in c:\\users\\sahur\\venv\\ wordcloud\\lib\\site-packages (from jedi>=0.10->ipython>=4.0.0; python_version >= \"3.3\"->ipywidgets) (0.7.1)\n",
      "Requirement already satisfied: wcwidth in c:\\users\\sahur\\venv\\ wordcloud\\lib\\site-packages (from prompt-toolkit!=3.0.0,!=3.0.1,<3.1.0,>=2.0.0->ipython>=4.0.0; python_version >= \"3.3\"->ipywidgets) (0.2.5)\n",
      "Requirement already satisfied: terminado>=0.8.3 in c:\\users\\sahur\\venv\\ wordcloud\\lib\\site-packages (from notebook>=4.4.1->widgetsnbextension~=3.5.0->ipywidgets) (0.9.1)\n",
      "Requirement already satisfied: prometheus-client in c:\\users\\sahur\\venv\\ wordcloud\\lib\\site-packages (from notebook>=4.4.1->widgetsnbextension~=3.5.0->ipywidgets) (0.8.0)\n",
      "Requirement already satisfied: argon2-cffi in c:\\users\\sahur\\venv\\ wordcloud\\lib\\site-packages (from notebook>=4.4.1->widgetsnbextension~=3.5.0->ipywidgets) (20.1.0)\n",
      "Requirement already satisfied: nbconvert in c:\\users\\sahur\\venv\\ wordcloud\\lib\\site-packages (from notebook>=4.4.1->widgetsnbextension~=3.5.0->ipywidgets) (6.0.7)\n",
      "Requirement already satisfied: Send2Trash in c:\\users\\sahur\\venv\\ wordcloud\\lib\\site-packages (from notebook>=4.4.1->widgetsnbextension~=3.5.0->ipywidgets) (1.5.0)\n",
      "Requirement already satisfied: jinja2 in c:\\users\\sahur\\venv\\ wordcloud\\lib\\site-packages (from notebook>=4.4.1->widgetsnbextension~=3.5.0->ipywidgets) (2.11.2)\n",
      "Requirement already satisfied: pywinpty>=0.5; os_name == \"nt\" in c:\\users\\sahur\\venv\\ wordcloud\\lib\\site-packages (from terminado>=0.8.3->notebook>=4.4.1->widgetsnbextension~=3.5.0->ipywidgets) (0.5.7)\n",
      "Requirement already satisfied: cffi>=1.0.0 in c:\\users\\sahur\\venv\\ wordcloud\\lib\\site-packages (from argon2-cffi->notebook>=4.4.1->widgetsnbextension~=3.5.0->ipywidgets) (1.14.3)\n",
      "Requirement already satisfied: jupyterlab-pygments in c:\\users\\sahur\\venv\\ wordcloud\\lib\\site-packages (from nbconvert->notebook>=4.4.1->widgetsnbextension~=3.5.0->ipywidgets) (0.1.2)\n",
      "Requirement already satisfied: testpath in c:\\users\\sahur\\venv\\ wordcloud\\lib\\site-packages (from nbconvert->notebook>=4.4.1->widgetsnbextension~=3.5.0->ipywidgets) (0.4.4)\n",
      "Requirement already satisfied: bleach in c:\\users\\sahur\\venv\\ wordcloud\\lib\\site-packages (from nbconvert->notebook>=4.4.1->widgetsnbextension~=3.5.0->ipywidgets) (3.2.1)\n",
      "Requirement already satisfied: entrypoints>=0.2.2 in c:\\users\\sahur\\venv\\ wordcloud\\lib\\site-packages (from nbconvert->notebook>=4.4.1->widgetsnbextension~=3.5.0->ipywidgets) (0.3)\n",
      "Requirement already satisfied: pandocfilters>=1.4.1 in c:\\users\\sahur\\venv\\ wordcloud\\lib\\site-packages (from nbconvert->notebook>=4.4.1->widgetsnbextension~=3.5.0->ipywidgets) (1.4.3)\n",
      "Requirement already satisfied: defusedxml in c:\\users\\sahur\\venv\\ wordcloud\\lib\\site-packages (from nbconvert->notebook>=4.4.1->widgetsnbextension~=3.5.0->ipywidgets) (0.6.0)\n",
      "Requirement already satisfied: mistune<2,>=0.8.1 in c:\\users\\sahur\\venv\\ wordcloud\\lib\\site-packages (from nbconvert->notebook>=4.4.1->widgetsnbextension~=3.5.0->ipywidgets) (0.8.4)\n",
      "Requirement already satisfied: nbclient<0.6.0,>=0.5.0 in c:\\users\\sahur\\venv\\ wordcloud\\lib\\site-packages (from nbconvert->notebook>=4.4.1->widgetsnbextension~=3.5.0->ipywidgets) (0.5.1)\n",
      "Requirement already satisfied: MarkupSafe>=0.23 in c:\\users\\sahur\\venv\\ wordcloud\\lib\\site-packages (from jinja2->notebook>=4.4.1->widgetsnbextension~=3.5.0->ipywidgets) (1.1.1)\n",
      "Requirement already satisfied: pycparser in c:\\users\\sahur\\venv\\ wordcloud\\lib\\site-packages (from cffi>=1.0.0->argon2-cffi->notebook>=4.4.1->widgetsnbextension~=3.5.0->ipywidgets) (2.20)\n",
      "Requirement already satisfied: packaging in c:\\users\\sahur\\venv\\ wordcloud\\lib\\site-packages (from bleach->nbconvert->notebook>=4.4.1->widgetsnbextension~=3.5.0->ipywidgets) (20.4)\n",
      "Requirement already satisfied: webencodings in c:\\users\\sahur\\venv\\ wordcloud\\lib\\site-packages (from bleach->nbconvert->notebook>=4.4.1->widgetsnbextension~=3.5.0->ipywidgets) (0.5.1)\n",
      "Requirement already satisfied: nest-asyncio in c:\\users\\sahur\\venv\\ wordcloud\\lib\\site-packages (from nbclient<0.6.0,>=0.5.0->nbconvert->notebook>=4.4.1->widgetsnbextension~=3.5.0->ipywidgets) (1.4.2)\n",
      "Requirement already satisfied: async-generator in c:\\users\\sahur\\venv\\ wordcloud\\lib\\site-packages (from nbclient<0.6.0,>=0.5.0->nbconvert->notebook>=4.4.1->widgetsnbextension~=3.5.0->ipywidgets) (1.10)\n",
      "Requirement already satisfied: pyparsing>=2.0.2 in c:\\users\\sahur\\venv\\ wordcloud\\lib\\site-packages (from packaging->bleach->nbconvert->notebook>=4.4.1->widgetsnbextension~=3.5.0->ipywidgets) (2.4.7)\n"
     ]
    },
    {
     "name": "stderr",
     "output_type": "stream",
     "text": [
      "Installing c:\\users\\sahur\\venv\\ wordcloud\\lib\\site-packages\\fileupload\\static -> fileupload\n",
      "Up to date: C:\\Users\\sahur\\AppData\\Roaming\\jupyter\\nbextensions\\fileupload\\extension.js\n",
      "Up to date: C:\\Users\\sahur\\AppData\\Roaming\\jupyter\\nbextensions\\fileupload\\widget.js\n",
      "Up to date: C:\\Users\\sahur\\AppData\\Roaming\\jupyter\\nbextensions\\fileupload\\fileupload\\widget.js\n",
      "- Validating: ok\n",
      "\n",
      "    To initialize this nbextension in the browser every time the notebook (or other app) loads:\n",
      "    \n",
      "          jupyter nbextension enable fileupload --user --py\n",
      "    \n",
      "Enabling notebook extension fileupload/extension...\n",
      "      - Validating: ok\n"
     ]
    }
   ],
   "source": [
    "!pip install wordcloud\n",
    "!pip install fileupload\n",
    "!pip install ipywidgets\n",
    "!jupyter nbextension install --py --user fileupload\n",
    "!jupyter nbextension enable --py fileupload\n",
    "\n",
    "import wordcloud\n",
    "import numpy as np\n",
    "from matplotlib import pyplot as plt\n",
    "from IPython.display import display\n",
    "import fileupload\n",
    "import io\n",
    "import sys"
   ]
  },
  {
   "cell_type": "code",
   "execution_count": 1,
   "metadata": {},
   "outputs": [
    {
     "name": "stdout",
     "output_type": "stream",
     "text": [
      "hi\n"
     ]
    }
   ],
   "source": [
    "print(\"hi\")"
   ]
  },
  {
   "cell_type": "code",
   "execution_count": 4,
   "metadata": {},
   "outputs": [
    {
     "ename": "NameError",
     "evalue": "name 'fileupload' is not defined",
     "output_type": "error",
     "traceback": [
      "\u001b[1;31m---------------------------------------------------------------------------\u001b[0m",
      "\u001b[1;31mNameError\u001b[0m                                 Traceback (most recent call last)",
      "\u001b[1;32m<ipython-input-4-e64eea9ff394>\u001b[0m in \u001b[0;36m<module>\u001b[1;34m\u001b[0m\n\u001b[0;32m     14\u001b[0m     \u001b[0mdisplay\u001b[0m\u001b[1;33m(\u001b[0m\u001b[0m_upload_widget\u001b[0m\u001b[1;33m)\u001b[0m\u001b[1;33m\u001b[0m\u001b[1;33m\u001b[0m\u001b[0m\n\u001b[0;32m     15\u001b[0m \u001b[1;33m\u001b[0m\u001b[0m\n\u001b[1;32m---> 16\u001b[1;33m \u001b[0m_upload\u001b[0m\u001b[1;33m(\u001b[0m\u001b[1;33m)\u001b[0m\u001b[1;33m\u001b[0m\u001b[1;33m\u001b[0m\u001b[0m\n\u001b[0m",
      "\u001b[1;32m<ipython-input-4-e64eea9ff394>\u001b[0m in \u001b[0;36m_upload\u001b[1;34m()\u001b[0m\n\u001b[0;32m      2\u001b[0m \u001b[1;33m\u001b[0m\u001b[0m\n\u001b[0;32m      3\u001b[0m \u001b[1;32mdef\u001b[0m \u001b[0m_upload\u001b[0m\u001b[1;33m(\u001b[0m\u001b[1;33m)\u001b[0m\u001b[1;33m:\u001b[0m\u001b[1;33m\u001b[0m\u001b[1;33m\u001b[0m\u001b[0m\n\u001b[1;32m----> 4\u001b[1;33m     \u001b[0m_upload_widget\u001b[0m \u001b[1;33m=\u001b[0m \u001b[0mfileupload\u001b[0m\u001b[1;33m.\u001b[0m\u001b[0mFileUploadWidget\u001b[0m\u001b[1;33m(\u001b[0m\u001b[1;33m)\u001b[0m\u001b[1;33m\u001b[0m\u001b[1;33m\u001b[0m\u001b[0m\n\u001b[0m\u001b[0;32m      5\u001b[0m \u001b[1;33m\u001b[0m\u001b[0m\n\u001b[0;32m      6\u001b[0m     \u001b[1;32mdef\u001b[0m \u001b[0m_cb\u001b[0m\u001b[1;33m(\u001b[0m\u001b[0mchange\u001b[0m\u001b[1;33m)\u001b[0m\u001b[1;33m:\u001b[0m\u001b[1;33m\u001b[0m\u001b[1;33m\u001b[0m\u001b[0m\n",
      "\u001b[1;31mNameError\u001b[0m: name 'fileupload' is not defined"
     ]
    }
   ],
   "source": [
    "#uploader widget\n",
    "\n",
    "def _upload():\n",
    "    _upload_widget = fileupload.FileUploadWidget()\n",
    "    \n",
    "    def _cb(change):\n",
    "        global file_contents\n",
    "        decoded = io.StringIO(change['Owner'].data.decode('utf-8'))\n",
    "        filename = change['Owner'].filename\n",
    "        print('Uploaded {} ({:.2f} kB)'.format(filename, len(decoded.read()) / 2 **10))\n",
    "        file_contents = decoded.getvalue()\n",
    "        \n",
    "    _upload_widget.observe(_cb, names = 'data')\n",
    "    display(_upload_widget)\n",
    "    \n",
    "_upload()"
   ]
  },
  {
   "cell_type": "code",
   "execution_count": null,
   "metadata": {},
   "outputs": [],
   "source": []
  },
  {
   "cell_type": "code",
   "execution_count": null,
   "metadata": {},
   "outputs": [],
   "source": []
  },
  {
   "cell_type": "code",
   "execution_count": null,
   "metadata": {},
   "outputs": [],
   "source": []
  }
 ],
 "metadata": {
  "kernelspec": {
   "display_name": "Python 3",
   "language": "python",
   "name": "python3"
  },
  "language_info": {
   "codemirror_mode": {
    "name": "ipython",
    "version": 3
   },
   "file_extension": ".py",
   "mimetype": "text/x-python",
   "name": "python",
   "nbconvert_exporter": "python",
   "pygments_lexer": "ipython3",
   "version": "3.8.6"
  },
  "widgets": {
   "application/vnd.jupyter.widget-state+json": {
    "state": {},
    "version_major": 2,
    "version_minor": 0
   }
  }
 },
 "nbformat": 4,
 "nbformat_minor": 4
}
